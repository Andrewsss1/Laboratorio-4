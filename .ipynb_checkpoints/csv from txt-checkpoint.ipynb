{
 "cells": [
  {
   "cell_type": "code",
   "execution_count": 1,
   "metadata": {},
   "outputs": [
    {
     "ename": "ModuleNotFoundError",
     "evalue": "No module named 'pandas'",
     "output_type": "error",
     "traceback": [
      "\u001b[0;31m---------------------------------------------------------------------------\u001b[0m",
      "\u001b[0;31mModuleNotFoundError\u001b[0m                       Traceback (most recent call last)",
      "\u001b[0;32m/tmp/ipykernel_1098/1706417377.py\u001b[0m in \u001b[0;36m<module>\u001b[0;34m\u001b[0m\n\u001b[1;32m      1\u001b[0m \u001b[0;32mimport\u001b[0m \u001b[0mnumpy\u001b[0m \u001b[0;32mas\u001b[0m \u001b[0mnp\u001b[0m\u001b[0;34m\u001b[0m\u001b[0;34m\u001b[0m\u001b[0m\n\u001b[0;32m----> 2\u001b[0;31m \u001b[0;32mimport\u001b[0m \u001b[0mpandas\u001b[0m \u001b[0;32mas\u001b[0m \u001b[0mpd\u001b[0m\u001b[0;34m\u001b[0m\u001b[0;34m\u001b[0m\u001b[0m\n\u001b[0m\u001b[1;32m      3\u001b[0m \u001b[0;32mimport\u001b[0m \u001b[0mcsv\u001b[0m\u001b[0;34m\u001b[0m\u001b[0;34m\u001b[0m\u001b[0m\n\u001b[1;32m      4\u001b[0m \u001b[0;34m\u001b[0m\u001b[0m\n",
      "\u001b[0;31mModuleNotFoundError\u001b[0m: No module named 'pandas'"
     ]
    }
   ],
   "source": [
    "import numpy as np\n",
    "import pandas as pd\n",
    "import csv\n",
    "\n"
   ]
  },
  {
   "cell_type": "code",
   "execution_count": 2,
   "metadata": {},
   "outputs": [],
   "source": [
    "def T_fun(x):\n",
    "    return ((((x-10000)*3.3)/1.024) -500)/10"
   ]
  },
  {
   "cell_type": "code",
   "execution_count": 19,
   "metadata": {},
   "outputs": [
    {
     "name": "stdout",
     "output_type": "stream",
     "text": [
      "3.319006214102749\n"
     ]
    }
   ],
   "source": [
    "\n",
    "f = open(\"fit_parameters.txt\", \"r\")\n",
    "\n",
    "lines = f.read().split('\\n')\n",
    "\n",
    "p0g1b = float(lines[4].split(\" \")[0])\n",
    "p1g1b = float(lines[4].split(\" \")[1])\n",
    "print(p0g1b )\n",
    "p0g1t = float(lines[5].split(\" \")[0])\n",
    "p1g1t = float(lines[5].split(\" \")[1])\n",
    "\n",
    "p0g2t = float(lines[3].split(\" \")[0])\n",
    "p1g2t = float(lines[3].split(\" \")[1])\n",
    "\n",
    "p0g2b = float(lines[2].split(\" \")[0])\n",
    "p1g2b = float(lines[2].split(\" \")[1])\n",
    "\n",
    "p0g3t = float(lines[1].split(\" \")[0])\n",
    "p1g3t = float(lines[1].split(\" \")[1])\n",
    "\n",
    "p0g3b = float(lines[0].split(\" \")[0])\n",
    "p1g3b = float(lines[0].split(\" \")[1])\n",
    "\n",
    "p0drift = float(lines[6].split(\" \")[0])\n",
    "p1drift = float(lines[6].split(\" \")[1])"
   ]
  },
  {
   "cell_type": "code",
   "execution_count": 20,
   "metadata": {
    "scrolled": false
   },
   "outputs": [],
   "source": [
    "def get_arrays_pico(fname):\n",
    "    f = open(fname,\"r\")\n",
    "    lines = f.readlines()\n",
    "    TS = []\n",
    "    V1T = []\n",
    "    V2T = []\n",
    "    V3T = []\n",
    "    V1B = []\n",
    "    V2B = []\n",
    "    V3B = []\n",
    "    VD = []\n",
    "    I1T = []\n",
    "    I2T = []\n",
    "    I3T = []\n",
    "    I1B = []\n",
    "    I2B = []\n",
    "    I3B = []\n",
    "    ID = []\n",
    "    T = np.zeros(7)\n",
    "    T3T = []\n",
    "    T3B = []\n",
    "    T2T = []\n",
    "    T2B = []\n",
    "    T1T = []\n",
    "    T1B = []\n",
    "    TD = []\n",
    "    for nl in range(len(lines)):\n",
    "        sp=lines[nl].split()\n",
    "        if nl%2==0:\n",
    "            if len(sp) <7:\n",
    "                break\n",
    "            TS.append(pd.to_numeric(sp[0]))\n",
    "            P0 = pd.to_numeric(sp[1].replace(\",\", \".\")) \n",
    "            if P0 >10000:\n",
    "                T[0] = T_fun(pd.to_numeric(sp[1].replace(\",\", \".\")))\n",
    "                T[1] = T_fun(pd.to_numeric(sp[2].replace(\",\", \".\")))\n",
    "                T[2] = T_fun(pd.to_numeric(sp[3].replace(\",\", \".\")))\n",
    "                T[3] = T_fun(pd.to_numeric(sp[4].replace(\",\", \".\")))\n",
    "                T[4] = T_fun(pd.to_numeric(sp[5].replace(\",\", \".\")))\n",
    "                T[5] = T_fun(pd.to_numeric(sp[6].replace(\",\", \".\")))\n",
    "                T[6] = T_fun(pd.to_numeric(sp[7].replace(\",\", \".\")))\n",
    "            else:\n",
    "                V3B.append(-pd.to_numeric(sp[1].replace(\",\",\".\")))\n",
    "                V3T.append(-pd.to_numeric(sp[2].replace(\",\",\".\")))\n",
    "                V2B.append(-pd.to_numeric(sp[3].replace(\",\",\".\")))\n",
    "                V2T.append(-pd.to_numeric(sp[4].replace(\",\",\".\")))\n",
    "                V1B.append(-pd.to_numeric(sp[5].replace(\",\",\".\")))\n",
    "                V1T.append(-pd.to_numeric(sp[6].replace(\",\",\".\")))\n",
    "                VD.append(-pd.to_numeric(sp[7].replace(\",\",\".\")))\n",
    "                T3B.append(pd.to_numeric(T[0]))\n",
    "                T3T.append(pd.to_numeric(T[1]))\n",
    "                T2B.append(pd.to_numeric(T[2]))\n",
    "                T2T.append(pd.to_numeric(T[3]))\n",
    "                T1B.append(pd.to_numeric(T[4]))\n",
    "                T1T.append(pd.to_numeric(T[5]))\n",
    "                TD.append(pd.to_numeric(T[6]))\n",
    "        else:\n",
    "            I3B.append(pd.to_numeric(sp[0].replace(\",\",\".\")))\n",
    "            I3T.append(pd.to_numeric(sp[1].replace(\",\",\".\")))\n",
    "            I2B.append(pd.to_numeric(sp[2].replace(\",\",\".\")))\n",
    "            I2T.append(pd.to_numeric(sp[3].replace(\",\",\".\")))\n",
    "            I1B.append(pd.to_numeric(sp[4].replace(\",\",\".\")))\n",
    "            I1T.append(pd.to_numeric(sp[5].replace(\",\",\".\")))\n",
    "            ID.append(pd.to_numeric(sp[6].replace(\",\",\".\")))\n",
    "    \n",
    "    line_1 = [np.array(TS), np.array(V3B), np.array(V3T), np.array(V2B), np.array(V2T), np.array(V1B), np.array(V1T), np.array(VD)]\n",
    "    line_2 = [np.array(I3B), np.array(I3T), np.array(I2B), np.array(I2T), np.array(I1B), np.array(I2T), np.array(ID)]\n",
    "    T_line = [np.array(T3B), np.array(T3T), np.array(T2B), np.array(T2T), np.array(T1B), np.array(T1T), np.array(TD)]\n",
    "\n",
    "    return line_1, line_2, T_line\n",
    "    \n"
   ]
  },
  {
   "cell_type": "code",
   "execution_count": 21,
   "metadata": {},
   "outputs": [],
   "source": [
    "def get_arrays_kpa(fname):\n",
    "    f = open(fname,\"r\")\n",
    "    Ix = []\n",
    "    Iy = []\n",
    "    lines = f.readlines()\n",
    "    for nl in range(len(lines)):\n",
    "        sp = lines[nl].split()\n",
    "        Ix.append(pd.to_numeric(sp[1]))\n",
    "        Iy.append(pd.to_numeric(sp[0]))\n",
    "    return Ix,Iy"
   ]
  },
  {
   "cell_type": "code",
   "execution_count": 22,
   "metadata": {},
   "outputs": [],
   "source": [
    "def get_arrays_kpa2(fname):\n",
    "    f = open(fname,\"r\")\n",
    "    Ix = []\n",
    "    Iy = []\n",
    "    lines = f.readlines()\n",
    "    for nl in range(len(lines)):\n",
    "        sp = lines[nl].split()\n",
    "        Ix.append(pd.to_numeric(sp[0]))\n",
    "        Iy.append(pd.to_numeric(sp[1]))\n",
    "    return Ix,Iy"
   ]
  },
  {
   "cell_type": "code",
   "execution_count": 23,
   "metadata": {},
   "outputs": [],
   "source": [
    "def Data_frame_pico(fname):\n",
    "    line_1, line_2, T_line = get_arrays_pico(fname)\n",
    "    #print(T_line)\n",
    "    #print(type(T_line[1]))\n",
    "    d1 = {\"V3B\": line_1[1], \"V3T\":line_1[2], \"V2B\":line_1[3], \"V2T\":line_1[4], \"V1B\": line_1[5], \"V1T\":line_1[6], \"VD\":line_1[7] }\n",
    "    d2 = {\"I3B\": line_2[0], \"I3T\": line_2[1], \"I2B\": line_2[2], \"I2T\": line_2[3], \"I1B\": line_2[4], \"I1T\":line_2[5], \"ID\":line_2[6]}\n",
    "    df_V = pd.DataFrame(data = d1, dtype = float)\n",
    "    df_I = pd.DataFrame(data = d2, dtype = float)\n",
    "    #df_I2 = df_I[df_I[col1]<=vin1][df_I[col1]>= -vin1]\n",
    "    \n",
    "    return df_V, df_I\n",
    "\n",
    "def Data_frame_kpa(fname):\n",
    "    Ix, Iy = get_arrays_kpa(fname)\n",
    "    d = {\"Ix\":Ix, \"Iy\":Iy}\n",
    "    df_K = pd.DataFrame(data = d, dtype = float)\n",
    "    return df_K\n",
    "\n",
    "def Data_frame_kpa2(fname):\n",
    "    Ix, Iy = get_arrays_kpa2(fname)\n",
    "    d = {\"Ix\":Ix, \"Iy\":Iy}\n",
    "    df_K = pd.DataFrame(data = d, dtype = float)\n",
    "    return df_K"
   ]
  },
  {
   "cell_type": "code",
   "execution_count": 24,
   "metadata": {},
   "outputs": [],
   "source": [
    "def to_csv(fnamepico,fnamekpa, fname1, fname2, fname3):\n",
    "    df_V, df_I = Data_frame_pico(fnamepico)\n",
    "    df_K = Data_frame_kpa(fnamekpa)\n",
    "    df_V.to_csv(fname1, index = False)\n",
    "    df_I.to_csv(fname2, index = False)\n",
    "    df_K.to_csv(fname3, index = False)\n",
    "    #df_Y.to_csv(fname4, index = False)\n",
    "    "
   ]
  },
  {
   "cell_type": "code",
   "execution_count": 25,
   "metadata": {},
   "outputs": [],
   "source": [
    "def to_csv2(fnamepico,fnamekpa, fname1, fname2, fname3):\n",
    "    df_V, df_I = Data_frame_pico(fnamepico)\n",
    "    df_K = Data_frame_kpa2(fnamekpa)\n",
    "    df_V.to_csv(fname1, index = False)\n",
    "    df_I.to_csv(fname2, index = False)\n",
    "    df_K.to_csv(fname3, index = False)\n",
    "    #df_Y.to_csv(fname4, index = False)"
   ]
  },
  {
   "cell_type": "markdown",
   "metadata": {},
   "source": [
    "File che corrispondono a Transfer 2"
   ]
  },
  {
   "cell_type": "code",
   "execution_count": 26,
   "metadata": {},
   "outputs": [
    {
     "name": "stdout",
     "output_type": "stream",
     "text": [
      "204\n",
      "205\n",
      "206\n",
      "207\n",
      "208\n",
      "209\n",
      "210\n",
      "211\n",
      "212\n",
      "213\n",
      "214\n",
      "215\n",
      "216\n",
      "217\n",
      "218\n",
      "219\n",
      "220\n",
      "221\n",
      "222\n",
      "223\n",
      "224\n",
      "225\n",
      "226\n",
      "227\n",
      "228\n",
      "229\n",
      "230\n",
      "231\n",
      "232\n",
      "233\n",
      "234\n",
      "235\n",
      "236\n",
      "237\n"
     ]
    }
   ],
   "source": [
    "for i in range(204,238):\n",
    "    fname = \"PICO_22Sett/pico_data/PICO_run0\"+ str(i) + \".txt\"\n",
    "    fname0 = \"PICO_22Sett/kpa_data/KPA_run0\" + str(i) + \".txt\"\n",
    "    fname1 = \"arrays/pico_data/PICO_V_run0\" + str(i) + \".csv\"\n",
    "    fname2 = \"arrays/pico_data/PICO_I_run0\" + str(i) + \".csv\"\n",
    "    fname3 = \"arrays/kpa_data/KPA_K_run0\" + str(i) + \".csv\"\n",
    "    #fname4 = \"arrays/kpa_data/KPA_Y_run0\" + str(i) + \".csv\"\n",
    "    to_csv(fname,fname0,fname1,fname2,fname3)\n",
    "    print(i)"
   ]
  },
  {
   "cell_type": "markdown",
   "metadata": {},
   "source": [
    "Files che corrispondono a Transfer 1\n"
   ]
  },
  {
   "cell_type": "code",
   "execution_count": 12,
   "metadata": {},
   "outputs": [
    {
     "name": "stdout",
     "output_type": "stream",
     "text": [
      "238\n",
      "239\n",
      "240\n",
      "241\n",
      "242\n",
      "243\n",
      "244\n",
      "245\n",
      "246\n",
      "247\n",
      "248\n",
      "249\n",
      "250\n",
      "251\n",
      "252\n",
      "253\n",
      "254\n",
      "255\n",
      "256\n",
      "257\n",
      "258\n"
     ]
    }
   ],
   "source": [
    "for i in range(238,259):\n",
    "    fname = \"PICO_22Sett/pico_data/PICO_run0\"+ str(i) + \".txt\"\n",
    "    fname0 = \"PICO_22Sett/kpa_data/KPA_run0\" + str(i) + \".txt\"\n",
    "    fname1 = \"arrays/pico_data/PICO_V_run0\" + str(i) + \".csv\"\n",
    "    fname2 = \"arrays/pico_data/PICO_I_run0\" + str(i) + \".csv\"\n",
    "    fname3 = \"arrays/kpa_data/KPA_K_run0\" + str(i) + \".csv\"\n",
    "    #fname4 = \"arrays/kpa_data/KPA_Y_run0\" + str(i) + \".csv\"\n",
    "    to_csv(fname,fname0,fname1,fname2,fname3)\n",
    "    print(i)"
   ]
  },
  {
   "cell_type": "markdown",
   "metadata": {},
   "source": [
    "Files che corrispondono a Induction"
   ]
  },
  {
   "cell_type": "code",
   "execution_count": 13,
   "metadata": {},
   "outputs": [
    {
     "name": "stdout",
     "output_type": "stream",
     "text": [
      "259\n",
      "260\n",
      "261\n",
      "262\n",
      "263\n",
      "264\n",
      "265\n",
      "266\n",
      "267\n",
      "268\n",
      "269\n",
      "270\n",
      "271\n",
      "272\n",
      "273\n",
      "274\n",
      "275\n",
      "276\n",
      "277\n",
      "278\n",
      "279\n",
      "280\n",
      "281\n",
      "282\n",
      "283\n"
     ]
    }
   ],
   "source": [
    "for i in range(259,284):\n",
    "    fname = \"PICO_22Sett/pico_data/PICO_run0\"+ str(i) + \".txt\"\n",
    "    fname0 = \"PICO_22Sett/kpa_data/KPA_run0\" + str(i) + \".txt\"\n",
    "    fname1 = \"arrays/pico_data/PICO_V_run0\" + str(i) + \".csv\"\n",
    "    fname2 = \"arrays/pico_data/PICO_I_run0\" + str(i) + \".csv\"\n",
    "    fname3 = \"arrays/kpa_data/KPA_K_run0\" + str(i) + \".csv\"\n",
    "    #fname4 = \"arrays/kpa_data/KPA_Y_run0\" + str(i) + \".csv\"\n",
    "    to_csv(fname,fname0,fname1,fname2,fname3)\n",
    "    print(i)"
   ]
  },
  {
   "cell_type": "code",
   "execution_count": 14,
   "metadata": {},
   "outputs": [
    {
     "name": "stdout",
     "output_type": "stream",
     "text": [
      "284\n",
      "285\n",
      "286\n",
      "287\n",
      "288\n",
      "289\n",
      "290\n",
      "291\n",
      "292\n",
      "293\n",
      "294\n",
      "295\n",
      "296\n",
      "297\n",
      "298\n",
      "299\n",
      "300\n",
      "301\n",
      "302\n",
      "303\n",
      "304\n"
     ]
    }
   ],
   "source": [
    "for i in range(284,305):\n",
    "    fname = \"PICO_22Sett/pico_data/PICO_run0\"+ str(i) + \".txt\"\n",
    "    fname0 = \"PICO_22Sett/kpa_data/KPA_run0\" + str(i) + \".txt\"\n",
    "    fname1 = \"arrays/pico_data/PICO_V_run0\" + str(i) + \".csv\"\n",
    "    fname2 = \"arrays/pico_data/PICO_I_run0\" + str(i) + \".csv\"\n",
    "    fname3 = \"arrays/kpa_data/KPA_K_run0\" + str(i) + \".csv\"\n",
    "    #fname4 = \"arrays/kpa_data/KPA_Y_run0\" + str(i) + \".csv\"\n",
    "    to_csv(fname,fname0,fname1,fname2,fname3)\n",
    "    print(i)"
   ]
  },
  {
   "cell_type": "code",
   "execution_count": 15,
   "metadata": {},
   "outputs": [
    {
     "name": "stdout",
     "output_type": "stream",
     "text": [
      "305\n",
      "306\n",
      "307\n",
      "308\n",
      "309\n",
      "310\n",
      "311\n",
      "312\n",
      "313\n",
      "314\n",
      "315\n",
      "316\n",
      "317\n",
      "318\n",
      "319\n",
      "320\n",
      "321\n",
      "322\n",
      "323\n",
      "324\n",
      "325\n",
      "326\n",
      "327\n",
      "328\n"
     ]
    }
   ],
   "source": [
    "for i in range(305,329):\n",
    "    fname = \"PICO_22Sett/pico_data/PICO_run0\"+ str(i) + \".txt\"\n",
    "    fname0 = \"PICO_22Sett/kpa_data/KPA_run0\" + str(i) + \".txt\"\n",
    "    fname1 = \"arrays/pico_data/PICO_V_run0\" + str(i) + \".csv\"\n",
    "    fname2 = \"arrays/pico_data/PICO_I_run0\" + str(i) + \".csv\"\n",
    "    fname3 = \"arrays/kpa_data/KPA_K_run0\" + str(i) + \".csv\"\n",
    "    #fname4 = \"arrays/kpa_data/KPA_Y_run0\" + str(i) + \".csv\"\n",
    "    to_csv(fname,fname0,fname1,fname2,fname3 )\n",
    "    print(i)"
   ]
  },
  {
   "cell_type": "code",
   "execution_count": 16,
   "metadata": {},
   "outputs": [
    {
     "name": "stdout",
     "output_type": "stream",
     "text": [
      "330\n",
      "331\n",
      "332\n",
      "333\n",
      "334\n",
      "335\n",
      "336\n",
      "337\n",
      "338\n"
     ]
    }
   ],
   "source": [
    "for i in range(330,339):\n",
    "    fname = \"PICO_22Sett/pico_data/PICO_run0\"+ str(i) + \".txt\"\n",
    "    fname0 = \"PICO_22Sett/kpa_data/KPA_run0\" + str(i) + \".txt\"\n",
    "    fname1 = \"arrays/pico_data/PICO_V_run0\" + str(i) + \".csv\"\n",
    "    fname2 = \"arrays/pico_data/PICO_I_run0\" + str(i) + \".csv\"\n",
    "    fname3 = \"arrays/kpa_data/KPA_K_run0\" + str(i) + \".csv\"\n",
    "    #fname4 = \"arrays/kpa_data/KPA_Y_run0\" + str(i) + \".csv\"\n",
    "    to_csv(fname,fname0,fname1,fname2,fname3)\n",
    "    print(i)"
   ]
  },
  {
   "cell_type": "code",
   "execution_count": 17,
   "metadata": {},
   "outputs": [
    {
     "name": "stdout",
     "output_type": "stream",
     "text": [
      "339\n",
      "340\n",
      "341\n",
      "342\n",
      "343\n",
      "344\n",
      "345\n",
      "346\n",
      "347\n",
      "348\n",
      "349\n",
      "350\n",
      "351\n",
      "352\n",
      "353\n",
      "354\n"
     ]
    }
   ],
   "source": [
    "for i in range(339,355):\n",
    "    fname = \"PICO_22Sett/pico_data/PICO_run0\"+ str(i) + \".txt\"\n",
    "    fname0 = \"PICO_22Sett/kpa_data/KPA_run0\" + str(i) + \".txt\"\n",
    "    fname1 = \"arrays/pico_data/PICO_V_run0\" + str(i) + \".csv\"\n",
    "    fname2 = \"arrays/pico_data/PICO_I_run0\" + str(i) + \".csv\"\n",
    "    fname3 = \"arrays/kpa_data/KPA_K_run0\" + str(i) + \".csv\"\n",
    "    #fname4 = \"arrays/kpa_data/KPA_Y_run0\" + str(i) + \".csv\"\n",
    "    to_csv(fname,fname0,fname1,fname2,fname3)\n",
    "    print(i)"
   ]
  }
 ],
 "metadata": {
  "kernelspec": {
   "display_name": "Python 3 (ipykernel)",
   "language": "python",
   "name": "python3"
  },
  "language_info": {
   "codemirror_mode": {
    "name": "ipython",
    "version": 3
   },
   "file_extension": ".py",
   "mimetype": "text/x-python",
   "name": "python",
   "nbconvert_exporter": "python",
   "pygments_lexer": "ipython3",
   "version": "3.10.6"
  }
 },
 "nbformat": 4,
 "nbformat_minor": 4
}
